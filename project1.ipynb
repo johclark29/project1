{
 "cells": [
  {
   "cell_type": "markdown",
   "metadata": {},
   "source": [
    "### Project 1, John Clark, W205 Section 9"
   ]
  },
  {
   "cell_type": "markdown",
   "metadata": {},
   "source": [
    "In this project, I will peform an analysis to determine how to increase ridership at Lyft Bay Wheels. We begin this effort by making a number of SQL queries and performing some visualizations. "
   ]
  },
  {
   "cell_type": "markdown",
   "metadata": {},
   "source": [
    "### Iniitialize Libraries "
   ]
  },
  {
   "cell_type": "code",
   "execution_count": 1,
   "metadata": {},
   "outputs": [],
   "source": [
    "import pandas as pd\n"
   ]
  },
  {
   "cell_type": "markdown",
   "metadata": {},
   "source": [
    "### SQL Queries"
   ]
  },
  {
   "cell_type": "code",
   "execution_count": null,
   "metadata": {},
   "outputs": [],
   "source": [
    "We start out with SQL queries asking three questions: \n",
    "* What is the size of this dataset? \n",
    "* What is the earliest start date and time and latest end data and time for a trip? \n",
    "* How many bikes are there: \n",
    "    \n",
    "The following queries will answer thse questions"
   ]
  },
  {
   "cell_type": "code",
   "execution_count": 7,
   "metadata": {},
   "outputs": [
    {
     "name": "stdout",
     "output_type": "stream",
     "text": [
      "Waiting on bqjob_r440c3d26082fa906_00000179e76fb8f9_1 ... (0s) Current status: DONE   \n",
      "+--------+\n",
      "|  f0_   |\n",
      "+--------+\n",
      "| 983648 |\n",
      "+--------+\n",
      "Waiting on bqjob_r4e32153a38078785_00000179e76fc16e_1 ... (0s) Current status: DONE   \n",
      "+---------------------+---------------------+\n",
      "|         f0_         |         f1_         |\n",
      "+---------------------+---------------------+\n",
      "| 2013-08-29 09:08:00 | 2016-08-31 23:48:00 |\n",
      "+---------------------+---------------------+\n",
      "Waiting on bqjob_r7e1201134952edef_00000179e76fcd86_1 ... (0s) Current status: DONE   \n",
      "+-----+\n",
      "| f0_ |\n",
      "+-----+\n",
      "| 700 |\n",
      "+-----+\n"
     ]
    }
   ],
   "source": [
    "! bq query --use_legacy_sql=FALSE 'SELECT count(*) FROM `bigquery-public-data.san_francisco.bikeshare_trips`'\n",
    "\n",
    "! bq query --use_legacy_sql=FALSE 'SELECT min(start_date), max(end_date), FROM `bigquery-public-data.san_francisco.bikeshare_trips`'\n",
    "\n",
    "! bq query --use_legacy_sql=false 'select count(distinct(bike_number)) from `bigquery-public-data.san_francisco.bikeshare_trips`'\n"
   ]
  },
  {
   "cell_type": "markdown",
   "metadata": {},
   "source": [
    "As we can see, the trips database has a total of 983,648 records in it. The earlist trip occurred on August 29th in 2013 and the latest trip occurred on August 31st of 2016.  Given total unique bike numbers, there appear to be 700 bikes. Let's consider an additional couple of SQL queries to answer the following question: \n",
    "* How many trips are in the morning vs. the afternoon? \n",
    "\n",
    "Let us assume the morning is defined between 6:00AM and 11:59AM and the afternoon is defined as 12:00pm and 4:59PM."
   ]
  },
  {
   "cell_type": "code",
   "execution_count": 8,
   "metadata": {},
   "outputs": [
    {
     "name": "stdout",
     "output_type": "stream",
     "text": [
      "Waiting on bqjob_r75bf5667aa6396c7_00000179e775a0bb_1 ... (0s) Current status: DONE   \n",
      "+--------+\n",
      "|  f0_   |\n",
      "+--------+\n",
      "| 387728 |\n",
      "+--------+\n",
      "Waiting on bqjob_r301a7c293ea08454_00000179e775abc7_1 ... (0s) Current status: DONE   \n",
      "+--------+\n",
      "|  f0_   |\n",
      "+--------+\n",
      "| 250705 |\n",
      "+--------+\n"
     ]
    }
   ],
   "source": [
    "! bq query --use_legacy_sql=false 'SELECT count(*)from `bigquery-public-data.san_francisco.bikeshare_trips` where extract(hour from end_date AT TIME ZONE \"UTC\") between 6 AND 11'\n",
    "! bq query --use_legacy_sql=false 'SELECT count(*) from `bigquery-public-data.san_francisco.bikeshare_trips` where extract(hour from end_date AT TIME ZONE \"UTC\") between 12 AND 16'\n"
   ]
  },
  {
   "cell_type": "markdown",
   "metadata": {},
   "source": [
    "Our query tells us that there are 387,728 trips in the morning and 250,705 trips in the afternoon. \n",
    "\n",
    "Let us seek answers to 5 additional questions that tell us more about our dataset: \n",
    "* Is there any revenue leakage due to bicycles being unavailable? \n",
    "* What is the list of stations? \n",
    "* What are the most popular trips? \n",
    "* How many trips occur during peak rush hour times of 7:00PM and 9:59PM and 4:00PM and 6:59PM? \n",
    "* What is the distribution of trips throughout the day using a historgram? \n",
    "* Is there any dirty data in this dataset that causes us a concern? "
   ]
  },
  {
   "cell_type": "markdown",
   "metadata": {},
   "source": [
    "First, we look at the availability of bikes compared to the total number of bikes. "
   ]
  },
  {
   "cell_type": "code",
   "execution_count": 11,
   "metadata": {},
   "outputs": [
    {
     "name": "stdout",
     "output_type": "stream",
     "text": [
      "Waiting on bqjob_r7aac7540658fb536_00000179e77ec42d_1 ... (0s) Current status: DONE   \n",
      "+--------+\n",
      "|  f0_   |\n",
      "+--------+\n",
      "| 850830 |\n",
      "+--------+\n",
      "Waiting on bqjob_r523ecb109ee63e98_00000179e77eca52_1 ... (0s) Current status: DONE   \n",
      "+-----------+\n",
      "|    f0_    |\n",
      "+-----------+\n",
      "| 107501619 |\n",
      "+-----------+\n"
     ]
    }
   ],
   "source": [
    "! bq query --use_legacy_sql=false 'select count(*) FROM `bigquery-public-data.san_francisco.bikeshare_status` where bikes_available = 0'\n",
    "! bq query --use_legacy_sql=false 'select count(*) FROM `bigquery-public-data.san_francisco.bikeshare_status`'\n"
   ]
  },
  {
   "cell_type": "markdown",
   "metadata": {},
   "source": [
    "We can see that 850,830 times, there have been zero bikes available at a station. However, when this is compared to the total number of status updates of 10,750,619, the number does not appear so large. In fact, there are no bikes avilable .0079% of the time or less than 1 percent. \n",
    "\n",
    "Let's look next at the list of stations so we have an idea geographically as to where they are all at. "
   ]
  },
  {
   "cell_type": "code",
   "execution_count": 12,
   "metadata": {},
   "outputs": [
    {
     "name": "stdout",
     "output_type": "stream",
     "text": [
      "Waiting on bqjob_r6f4c5934e6b365af_00000179e7850a23_1 ... (0s) Current status: DONE   \n",
      "+------------+-----------------------------------------------+---------------+\n",
      "| station_id |                     name                      |   landmark    |\n",
      "+------------+-----------------------------------------------+---------------+\n",
      "|         32 | Castro Street and El Camino Real              | Mountain View |\n",
      "|         27 | Mountain View City Hall                       | Mountain View |\n",
      "|         33 | Charleston Park/ North Bayshore Area          | Mountain View |\n",
      "|         30 | Middlefield Light Rail Station                | Mountain View |\n",
      "|         31 | San Antonio Shopping Center                   | Mountain View |\n",
      "|         29 | San Antonio Caltrain Station                  | Mountain View |\n",
      "|         28 | Mountain View Caltrain Station                | Mountain View |\n",
      "|         37 | Cowper at University                          | Palo Alto     |\n",
      "|         35 | University and Emerson                        | Palo Alto     |\n",
      "|         38 | Park at Olive                                 | Palo Alto     |\n",
      "|         36 | California Ave Caltrain Station               | Palo Alto     |\n",
      "|         34 | Palo Alto Caltrain Station                    | Palo Alto     |\n",
      "|         25 | Stanford in Redwood City                      | Redwood City  |\n",
      "|         21 | Franklin at Maple                             | Redwood City  |\n",
      "|         24 | Redwood City Public Library                   | Redwood City  |\n",
      "|         26 | Redwood City Medical Center                   | Redwood City  |\n",
      "|         23 | San Mateo County Center                       | Redwood City  |\n",
      "|         83 | Mezes Park                                    | Redwood City  |\n",
      "|         22 | Redwood City Caltrain Station                 | Redwood City  |\n",
      "|         41 | Clay at Battery                               | San Francisco |\n",
      "|         48 | Embarcadero at Vallejo                        | San Francisco |\n",
      "|         46 | Washington at Kearney                         | San Francisco |\n",
      "|         42 | Davis at Jackson                              | San Francisco |\n",
      "|         45 | Commercial at Montgomery                      | San Francisco |\n",
      "|         54 | Embarcadero at Bryant                         | San Francisco |\n",
      "|         60 | Embarcadero at Sansome                        | San Francisco |\n",
      "|         57 | 5th at Howard                                 | San Francisco |\n",
      "|         65 | Townsend at 7th                               | San Francisco |\n",
      "|         64 | 2nd at South Park                             | San Francisco |\n",
      "|         82 | Broadway St at Battery St                     | San Francisco |\n",
      "|         73 | Grant Avenue at Columbus Avenue               | San Francisco |\n",
      "|         47 | Post at Kearney                               | San Francisco |\n",
      "|         56 | Beale at Market                               | San Francisco |\n",
      "|         51 | Embarcadero at Folsom                         | San Francisco |\n",
      "|         49 | Spear at Folsom                               | San Francisco |\n",
      "|         58 | San Francisco City Hall                       | San Francisco |\n",
      "|         62 | 2nd at Folsom                                 | San Francisco |\n",
      "|         63 | Howard at 2nd                                 | San Francisco |\n",
      "|         68 | Yerba Buena Center of the Arts (3rd @ Howard) | San Francisco |\n",
      "|         66 | South Van Ness at Market                      | San Francisco |\n",
      "|         70 | San Francisco Caltrain (Townsend at 4th)      | San Francisco |\n",
      "|         71 | Powell at Post (Union Square)                 | San Francisco |\n",
      "|         75 | Mechanics Plaza (Market at Battery)           | San Francisco |\n",
      "|         76 | Market at 4th                                 | San Francisco |\n",
      "|         39 | Powell Street BART                            | San Francisco |\n",
      "|         50 | Harry Bridges Plaza (Ferry Building)          | San Francisco |\n",
      "|         55 | Temporary Transbay Terminal (Howard at Beale) | San Francisco |\n",
      "|         59 | Golden Gate at Polk                           | San Francisco |\n",
      "|         72 | Civic Center BART (7th at Market)             | San Francisco |\n",
      "|         69 | San Francisco Caltrain 2 (330 Townsend)       | San Francisco |\n",
      "|         74 | Steuart at Market                             | San Francisco |\n",
      "|         61 | 2nd at Townsend                               | San Francisco |\n",
      "|         67 | Market at 10th                                | San Francisco |\n",
      "|         77 | Market at Sansome                             | San Francisco |\n",
      "|         90 | 5th St at Folsom St                           | San Francisco |\n",
      "|         91 | Cyril Magnin St at Ellis St                   | San Francisco |\n",
      "|          4 | Santa Clara at Almaden                        | San Jose      |\n",
      "|         84 | Ryland Park                                   | San Jose      |\n",
      "|          8 | San Salvador at 1st                           | San Jose      |\n",
      "|          9 | Japantown                                     | San Jose      |\n",
      "|          3 | San Jose Civic Center                         | San Jose      |\n",
      "|         13 | St James Park                                 | San Jose      |\n",
      "|         10 | San Jose City Hall                            | San Jose      |\n",
      "|         16 | SJSU - San Salvador at 9th                    | San Jose      |\n",
      "|          7 | Paseo de San Antonio                          | San Jose      |\n",
      "|          6 | San Pedro Square                              | San Jose      |\n",
      "|         80 | Santa Clara County Civic Center               | San Jose      |\n",
      "|         14 | Arena Green / SAP Center                      | San Jose      |\n",
      "|          5 | Adobe on Almaden                              | San Jose      |\n",
      "|         11 | MLK Library                                   | San Jose      |\n",
      "|         12 | SJSU 4th at San Carlos                        | San Jose      |\n",
      "|         89 | S. Market st at Park Ave                      | San Jose      |\n",
      "|         88 | 5th S. at E. San Salvador St                  | San Jose      |\n",
      "|          2 | San Jose Diridon Caltrain Station             | San Jose      |\n",
      "+------------+-----------------------------------------------+---------------+\n"
     ]
    }
   ],
   "source": [
    "! bq query --use_legacy_sql=FALSE 'SELECT distinct station_id, name, landmark FROM `bigquery-public-data.san_francisco.bikeshare_stations` ORDER BY landmark'"
   ]
  },
  {
   "cell_type": "markdown",
   "metadata": {},
   "source": [
    "A majority of the stations are in San Francisco and San Jose but we also see stations in Mountain View, Redwood City and Palo Alto. Noteably, there are no stations in the East Bay. \n",
    "\n",
    "Let's now consider the most popular trips. "
   ]
  },
  {
   "cell_type": "code",
   "execution_count": 15,
   "metadata": {},
   "outputs": [
    {
     "name": "stdout",
     "output_type": "stream",
     "text": [
      "Waiting on bqjob_r2c7748d20bc38a07_00000179e78e80a5_1 ... (0s) Current status: DONE   \n",
      "+-----------------------------------------------+-----------------------------------------------+---------------+-----------+\n",
      "|               end_station_name                |              start_station_name               |   landmark    | trip_freq |\n",
      "+-----------------------------------------------+-----------------------------------------------+---------------+-----------+\n",
      "| Embarcadero at Sansome                        | Harry Bridges Plaza (Ferry Building)          | San Francisco |      9150 |\n",
      "| Townsend at 7th                               | San Francisco Caltrain 2 (330 Townsend)       | San Francisco |      8508 |\n",
      "| Harry Bridges Plaza (Ferry Building)          | 2nd at Townsend                               | San Francisco |      7620 |\n",
      "| 2nd at Townsend                               | Harry Bridges Plaza (Ferry Building)          | San Francisco |      6888 |\n",
      "| Steuart at Market                             | Embarcadero at Sansome                        | San Francisco |      6874 |\n",
      "| San Francisco Caltrain 2 (330 Townsend)       | Townsend at 7th                               | San Francisco |      6836 |\n",
      "| San Francisco Caltrain (Townsend at 4th)      | Embarcadero at Folsom                         | San Francisco |      6351 |\n",
      "| Harry Bridges Plaza (Ferry Building)          | San Francisco Caltrain (Townsend at 4th)      | San Francisco |      6215 |\n",
      "| 2nd at Townsend                               | Steuart at Market                             | San Francisco |      6039 |\n",
      "| San Francisco Caltrain (Townsend at 4th)      | Steuart at Market                             | San Francisco |      5959 |\n",
      "| San Francisco Caltrain (Townsend at 4th)      | Temporary Transbay Terminal (Howard at Beale) | San Francisco |      5796 |\n",
      "| San Francisco Caltrain (Townsend at 4th)      | Harry Bridges Plaza (Ferry Building)          | San Francisco |      5395 |\n",
      "| San Francisco Caltrain (Townsend at 4th)      | Townsend at 7th                               | San Francisco |      5358 |\n",
      "| Market at Sansome                             | 2nd at South Park                             | San Francisco |      5337 |\n",
      "| Temporary Transbay Terminal (Howard at Beale) | San Francisco Caltrain (Townsend at 4th)      | San Francisco |      5196 |\n",
      "| San Francisco Caltrain 2 (330 Townsend)       | Market at 10th                                | San Francisco |      5118 |\n",
      "| Embarcadero at Sansome                        | Steuart at Market                             | San Francisco |      5110 |\n",
      "| 2nd at South Park                             | Market at Sansome                             | San Francisco |      5063 |\n",
      "| Harry Bridges Plaza (Ferry Building)          | Embarcadero at Sansome                        | San Francisco |      4737 |\n",
      "| Powell Street BART                            | San Francisco Caltrain 2 (330 Townsend)       | San Francisco |      4492 |\n",
      "| Embarcadero at Folsom                         | San Francisco Caltrain (Townsend at 4th)      | San Francisco |      4440 |\n",
      "| 5th at Howard                                 | San Francisco Caltrain 2 (330 Townsend)       | San Francisco |      4433 |\n",
      "| San Francisco Caltrain 2 (330 Townsend)       | Powell Street BART                            | San Francisco |      4417 |\n",
      "| Steuart at Market                             | San Francisco Caltrain (Townsend at 4th)      | San Francisco |      4367 |\n",
      "| San Francisco Caltrain (Townsend at 4th)      | Howard at 2nd                                 | San Francisco |      4304 |\n",
      "| Steuart at Market                             | 2nd at Townsend                               | San Francisco |      4273 |\n",
      "| Mountain View City Hall                       | Mountain View Caltrain Station                | Mountain View |      3852 |\n",
      "| San Francisco Caltrain (Townsend at 4th)      | Market at 4th                                 | San Francisco |      3818 |\n",
      "| Market at Sansome                             | San Francisco Caltrain (Townsend at 4th)      | San Francisco |      3801 |\n",
      "| Civic Center BART (7th at Market)             | Townsend at 7th                               | San Francisco |      3771 |\n",
      "| Market at 10th                                | San Francisco Caltrain 2 (330 Townsend)       | San Francisco |      3755 |\n",
      "| San Francisco Caltrain (Townsend at 4th)      | Market at Sansome                             | San Francisco |      3749 |\n",
      "| Townsend at 7th                               | Civic Center BART (7th at Market)             | San Francisco |      3698 |\n",
      "| San Francisco Caltrain (Townsend at 4th)      | Market at 10th                                | San Francisco |      3610 |\n",
      "| Market at Sansome                             | 2nd at Folsom                                 | San Francisco |      3597 |\n",
      "| Mountain View Caltrain Station                | Mountain View City Hall                       | Mountain View |      3520 |\n",
      "| Howard at 2nd                                 | San Francisco Caltrain (Townsend at 4th)      | San Francisco |      3468 |\n",
      "| San Francisco Caltrain (Townsend at 4th)      | Beale at Market                               | San Francisco |      3451 |\n",
      "| San Francisco Caltrain (Townsend at 4th)      | 2nd at Folsom                                 | San Francisco |      3292 |\n",
      "| San Francisco Caltrain 2 (330 Townsend)       | 5th at Howard                                 | San Francisco |      3222 |\n",
      "| San Jose Diridon Caltrain Station             | Santa Clara at Almaden                        | San Jose      |      3215 |\n",
      "| 2nd at Townsend                               | Temporary Transbay Terminal (Howard at Beale) | San Francisco |      3207 |\n",
      "| Townsend at 7th                               | San Francisco Caltrain (Townsend at 4th)      | San Francisco |      3196 |\n",
      "| Santa Clara at Almaden                        | San Jose Diridon Caltrain Station             | San Jose      |      3171 |\n",
      "| San Francisco Caltrain 2 (330 Townsend)       | Steuart at Market                             | San Francisco |      3162 |\n",
      "| Market at Sansome                             | Grant Avenue at Columbus Avenue               | San Francisco |      3153 |\n",
      "| Market at 4th                                 | Market at 10th                                | San Francisco |      3146 |\n",
      "| San Francisco Caltrain (Townsend at 4th)      | Embarcadero at Bryant                         | San Francisco |      3043 |\n",
      "| Harry Bridges Plaza (Ferry Building)          | San Francisco Caltrain 2 (330 Townsend)       | San Francisco |      3027 |\n",
      "| San Francisco Caltrain 2 (330 Townsend)       | Temporary Transbay Terminal (Howard at Beale) | San Francisco |      2963 |\n",
      "| Market at 10th                                | Powell Street BART                            | San Francisco |      2870 |\n",
      "| Embarcadero at Sansome                        | Embarcadero at Sansome                        | San Francisco |      2866 |\n",
      "| Market at Sansome                             | 2nd at Townsend                               | San Francisco |      2830 |\n",
      "| Embarcadero at Folsom                         | San Francisco Caltrain 2 (330 Townsend)       | San Francisco |      2828 |\n",
      "| Davis at Jackson                              | San Francisco Caltrain (Townsend at 4th)      | San Francisco |      2687 |\n",
      "| San Francisco Caltrain (Townsend at 4th)      | Davis at Jackson                              | San Francisco |      2642 |\n",
      "| San Francisco Caltrain (Townsend at 4th)      | Clay at Battery                               | San Francisco |      2631 |\n",
      "| Temporary Transbay Terminal (Howard at Beale) | San Francisco Caltrain 2 (330 Townsend)       | San Francisco |      2594 |\n",
      "| San Francisco Caltrain (Townsend at 4th)      | Yerba Buena Center of the Arts (3rd @ Howard) | San Francisco |      2592 |\n",
      "| Market at 10th                                | Market at 4th                                 | San Francisco |      2584 |\n",
      "| Howard at 2nd                                 | San Francisco Caltrain 2 (330 Townsend)       | San Francisco |      2552 |\n",
      "| Yerba Buena Center of the Arts (3rd @ Howard) | San Francisco Caltrain (Townsend at 4th)      | San Francisco |      2537 |\n",
      "| Mountain View Caltrain Station                | Castro Street and El Camino Real              | Mountain View |      2531 |\n",
      "| San Francisco Caltrain 2 (330 Townsend)       | Embarcadero at Folsom                         | San Francisco |      2520 |\n",
      "| Steuart at Market                             | San Francisco Caltrain 2 (330 Townsend)       | San Francisco |      2512 |\n",
      "| 2nd at Townsend                               | San Francisco Caltrain (Townsend at 4th)      | San Francisco |      2492 |\n",
      "| 2nd at Townsend                               | Market at Sansome                             | San Francisco |      2482 |\n",
      "| Market at 10th                                | San Francisco Caltrain (Townsend at 4th)      | San Francisco |      2469 |\n",
      "| San Francisco Caltrain (Townsend at 4th)      | 5th at Howard                                 | San Francisco |      2468 |\n",
      "| San Francisco Caltrain (Townsend at 4th)      | 2nd at South Park                             | San Francisco |      2425 |\n",
      "| San Francisco Caltrain (Townsend at 4th)      | Broadway St at Battery St                     | San Francisco |      2393 |\n",
      "| Harry Bridges Plaza (Ferry Building)          | Harry Bridges Plaza (Ferry Building)          | San Francisco |      2364 |\n",
      "| San Francisco Caltrain 2 (330 Townsend)       | Howard at 2nd                                 | San Francisco |      2355 |\n",
      "| San Francisco Caltrain (Townsend at 4th)      | 2nd at Townsend                               | San Francisco |      2353 |\n",
      "| Steuart at Market                             | Embarcadero at Vallejo                        | San Francisco |      2350 |\n",
      "| Embarcadero at Sansome                        | San Francisco Caltrain (Townsend at 4th)      | San Francisco |      2317 |\n",
      "| Embarcadero at Bryant                         | San Francisco Caltrain (Townsend at 4th)      | San Francisco |      2307 |\n",
      "| Market at Sansome                             | San Francisco Caltrain 2 (330 Townsend)       | San Francisco |      2303 |\n",
      "| San Francisco Caltrain (Townsend at 4th)      | Spear at Folsom                               | San Francisco |      2281 |\n",
      "| Castro Street and El Camino Real              | Mountain View Caltrain Station                | Mountain View |      2266 |\n",
      "| Embarcadero at Sansome                        | Embarcadero at Bryant                         | San Francisco |      2250 |\n",
      "| Harry Bridges Plaza (Ferry Building)          | Market at Sansome                             | San Francisco |      2214 |\n",
      "| Powell Street BART                            | Market at 10th                                | San Francisco |      2208 |\n",
      "| San Francisco Caltrain (Townsend at 4th)      | Powell Street BART                            | San Francisco |      2186 |\n",
      "| Harry Bridges Plaza (Ferry Building)          | 2nd at South Park                             | San Francisco |      2186 |\n",
      "| Harry Bridges Plaza (Ferry Building)          | Townsend at 7th                               | San Francisco |      2184 |\n",
      "| Powell Street BART                            | San Francisco Caltrain (Townsend at 4th)      | San Francisco |      2178 |\n",
      "| Temporary Transbay Terminal (Howard at Beale) | 2nd at Townsend                               | San Francisco |      2133 |\n",
      "| Beale at Market                               | San Francisco Caltrain (Townsend at 4th)      | San Francisco |      2125 |\n",
      "| Townsend at 7th                               | Temporary Transbay Terminal (Howard at Beale) | San Francisco |      2123 |\n",
      "| Harry Bridges Plaza (Ferry Building)          | Embarcadero at Bryant                         | San Francisco |      2102 |\n",
      "| 5th at Howard                                 | Temporary Transbay Terminal (Howard at Beale) | San Francisco |      2080 |\n",
      "| Embarcadero at Bryant                         | Steuart at Market                             | San Francisco |      2043 |\n",
      "| San Francisco Caltrain (Townsend at 4th)      | Embarcadero at Sansome                        | San Francisco |      2023 |\n",
      "| San Francisco Caltrain 2 (330 Townsend)       | Market at Sansome                             | San Francisco |      1953 |\n",
      "| 2nd at Townsend                               | Embarcadero at Folsom                         | San Francisco |      1931 |\n",
      "| San Francisco Caltrain 2 (330 Townsend)       | Harry Bridges Plaza (Ferry Building)          | San Francisco |      1914 |\n",
      "| Clay at Battery                               | San Francisco Caltrain (Townsend at 4th)      | San Francisco |      1905 |\n",
      "| 5th at Howard                                 | San Francisco Caltrain (Townsend at 4th)      | San Francisco |      1869 |\n",
      "| Townsend at 7th                               | Harry Bridges Plaza (Ferry Building)          | San Francisco |      1858 |\n",
      "+-----------------------------------------------+-----------------------------------------------+---------------+-----------+\n"
     ]
    }
   ],
   "source": [
    "! bq query --use_legacy_sql=FALSE 'SELECT end_station_name, start_station_name, landmark, count(*) as trip_freq FROM `bigquery-public-data.san_francisco.bikeshare_trips` a INNER JOIN `bigquery-public-data.san_francisco.bikeshare_stations` b ON a.end_station_id BETWEEN b.station_id AND b.station_id GROUP BY landmark, end_station_name, start_station_name ORDER BY trip_freq DESC'\n"
   ]
  },
  {
   "cell_type": "markdown",
   "metadata": {},
   "source": [
    "We can see that 96 of the 100 most popular trips terminate in San Francisco. Two terminate in Mountain View and two terminate in San Jose. \n",
    "\n",
    "Now let us look at how many trips occur at peak rush hour times of 7:00PM and 9:59PM and 4:00PM and 6:59PM. "
   ]
  },
  {
   "cell_type": "code",
   "execution_count": 16,
   "metadata": {},
   "outputs": [
    {
     "name": "stdout",
     "output_type": "stream",
     "text": [
      "Waiting on bqjob_r66f8c9c49afa6f58_00000179e79502ab_1 ... (0s) Current status: DONE   \n",
      "+--------+\n",
      "|  f0_   |\n",
      "+--------+\n",
      "| 288598 |\n",
      "+--------+\n",
      "Waiting on bqjob_r7894dcd039f05f95_00000179e7950c32_1 ... (0s) Current status: DONE   \n",
      "+--------+\n",
      "|  f0_   |\n",
      "+--------+\n",
      "| 299626 |\n",
      "+--------+\n"
     ]
    }
   ],
   "source": [
    "! bq query --use_legacy_sql=false 'SELECT count(*) from `bigquery-public-data.san_francisco.bikeshare_trips` where extract(hour from end_date AT TIME ZONE \"UTC\") between 7 AND 9'\n",
    "! bq query --use_legacy_sql=false 'SELECT count(*) from `bigquery-public-data.san_francisco.bikeshare_trips` where extract(hour from start_date AT TIME ZONE \"UTC\") between 16 AND 18'      \n"
   ]
  },
  {
   "cell_type": "markdown",
   "metadata": {},
   "source": [
    "There are 288,598 trips at the peak of morning rush hour and 299,626 during the peak of afternoon/early evening rush hour. These two numbers total to 60% of all the trips at Lyft Bay Wheels, therefore, targeting commuters appeast bo a good strategy of increasing sales volumes. "
   ]
  },
  {
   "cell_type": "markdown",
   "metadata": {},
   "source": [
    "There are 288,598 trips"
   ]
  },
  {
   "cell_type": "markdown",
   "metadata": {},
   "source": [
    "\n",
    "\n",
    "### In the next cell, we add the command line options:\n",
    "\n",
    "--format=csv which formats it into comma separated value\n",
    "\n",
    "\\> result.csv which writes the output to a file\n",
    "\n",
    "this allows us to read the file back into pandas\n",
    "\n",
    "If you have more than 100 rows, you may want to use the max_rows parameter like this:\n",
    "\n",
    "--max_rows=1000000"
   ]
  },
  {
   "cell_type": "code",
   "execution_count": 38,
   "metadata": {},
   "outputs": [
    {
     "name": "stdout",
     "output_type": "stream",
     "text": [
      "Waiting on bqjob_r2b6ab9ed8319fa46_0000016f81f6bdf3_1 ... (0s) Current status: DONE   \n"
     ]
    }
   ],
   "source": [
    "! bq query --use_legacy_sql=FALSE --format=csv 'SELECT start_station_name, end_station_name, count(*) as trip_freq FROM `bigquery-public-data.san_francisco.bikeshare_trips` GROUP BY start_station_name, end_station_name ORDER BY trip_freq DESC LIMIT 5' > result.csv"
   ]
  },
  {
   "cell_type": "markdown",
   "metadata": {},
   "source": [
    "### Read the data from the file into Pandas and create a simple data visualization"
   ]
  },
  {
   "cell_type": "code",
   "execution_count": 39,
   "metadata": {},
   "outputs": [],
   "source": [
    "pop_trips = pd.read_csv('result.csv')"
   ]
  },
  {
   "cell_type": "code",
   "execution_count": 40,
   "metadata": {},
   "outputs": [
    {
     "data": {
      "text/html": [
       "<div>\n",
       "<style scoped>\n",
       "    .dataframe tbody tr th:only-of-type {\n",
       "        vertical-align: middle;\n",
       "    }\n",
       "\n",
       "    .dataframe tbody tr th {\n",
       "        vertical-align: top;\n",
       "    }\n",
       "\n",
       "    .dataframe thead th {\n",
       "        text-align: right;\n",
       "    }\n",
       "</style>\n",
       "<table border=\"1\" class=\"dataframe\">\n",
       "  <thead>\n",
       "    <tr style=\"text-align: right;\">\n",
       "      <th></th>\n",
       "      <th>start_station_name</th>\n",
       "      <th>end_station_name</th>\n",
       "      <th>trip_freq</th>\n",
       "    </tr>\n",
       "  </thead>\n",
       "  <tbody>\n",
       "    <tr>\n",
       "      <th>0</th>\n",
       "      <td>Harry Bridges Plaza (Ferry Building)</td>\n",
       "      <td>Embarcadero at Sansome</td>\n",
       "      <td>9150</td>\n",
       "    </tr>\n",
       "    <tr>\n",
       "      <th>1</th>\n",
       "      <td>San Francisco Caltrain 2 (330 Townsend)</td>\n",
       "      <td>Townsend at 7th</td>\n",
       "      <td>8508</td>\n",
       "    </tr>\n",
       "    <tr>\n",
       "      <th>2</th>\n",
       "      <td>2nd at Townsend</td>\n",
       "      <td>Harry Bridges Plaza (Ferry Building)</td>\n",
       "      <td>7620</td>\n",
       "    </tr>\n",
       "    <tr>\n",
       "      <th>3</th>\n",
       "      <td>Harry Bridges Plaza (Ferry Building)</td>\n",
       "      <td>2nd at Townsend</td>\n",
       "      <td>6888</td>\n",
       "    </tr>\n",
       "    <tr>\n",
       "      <th>4</th>\n",
       "      <td>Embarcadero at Sansome</td>\n",
       "      <td>Steuart at Market</td>\n",
       "      <td>6874</td>\n",
       "    </tr>\n",
       "  </tbody>\n",
       "</table>\n",
       "</div>"
      ],
      "text/plain": [
       "                        start_station_name  \\\n",
       "0     Harry Bridges Plaza (Ferry Building)   \n",
       "1  San Francisco Caltrain 2 (330 Townsend)   \n",
       "2                          2nd at Townsend   \n",
       "3     Harry Bridges Plaza (Ferry Building)   \n",
       "4                   Embarcadero at Sansome   \n",
       "\n",
       "                       end_station_name  trip_freq  \n",
       "0                Embarcadero at Sansome       9150  \n",
       "1                       Townsend at 7th       8508  \n",
       "2  Harry Bridges Plaza (Ferry Building)       7620  \n",
       "3                       2nd at Townsend       6888  \n",
       "4                     Steuart at Market       6874  "
      ]
     },
     "execution_count": 40,
     "metadata": {},
     "output_type": "execute_result"
    }
   ],
   "source": [
    "pop_trips"
   ]
  },
  {
   "cell_type": "code",
   "execution_count": 41,
   "metadata": {},
   "outputs": [
    {
     "data": {
      "text/plain": [
       "<matplotlib.axes._subplots.AxesSubplot at 0x7f922b5a4550>"
      ]
     },
     "execution_count": 41,
     "metadata": {},
     "output_type": "execute_result"
    },
    {
     "data": {
      "image/png": "[encoded data removed]",
      "text/plain": [
       "<Figure size 432x288 with 1 Axes>"
      ]
     },
     "metadata": {
      "needs_background": "light"
     },
     "output_type": "display_data"
    }
   ],
   "source": [
    "pop_trips.trip_freq.hist()"
   ]
  },
  {
   "cell_type": "markdown",
   "metadata": {},
   "source": [
    "### We can also use the magic commands to run  BigQuery SQL\n"
   ]
  },
  {
   "cell_type": "markdown",
   "metadata": {},
   "source": [
    "#### This runs the query above and prints to the notebook output"
   ]
  },
  {
   "cell_type": "code",
   "execution_count": 42,
   "metadata": {},
   "outputs": [
    {
     "data": {
      "text/html": [
       "<div>\n",
       "<style scoped>\n",
       "    .dataframe tbody tr th:only-of-type {\n",
       "        vertical-align: middle;\n",
       "    }\n",
       "\n",
       "    .dataframe tbody tr th {\n",
       "        vertical-align: top;\n",
       "    }\n",
       "\n",
       "    .dataframe thead th {\n",
       "        text-align: right;\n",
       "    }\n",
       "</style>\n",
       "<table border=\"1\" class=\"dataframe\">\n",
       "  <thead>\n",
       "    <tr style=\"text-align: right;\">\n",
       "      <th></th>\n",
       "      <th>start_station_name</th>\n",
       "      <th>end_station_name</th>\n",
       "      <th>trip_freq</th>\n",
       "    </tr>\n",
       "  </thead>\n",
       "  <tbody>\n",
       "    <tr>\n",
       "      <th>0</th>\n",
       "      <td>Harry Bridges Plaza (Ferry Building)</td>\n",
       "      <td>Embarcadero at Sansome</td>\n",
       "      <td>9150</td>\n",
       "    </tr>\n",
       "    <tr>\n",
       "      <th>1</th>\n",
       "      <td>San Francisco Caltrain 2 (330 Townsend)</td>\n",
       "      <td>Townsend at 7th</td>\n",
       "      <td>8508</td>\n",
       "    </tr>\n",
       "    <tr>\n",
       "      <th>2</th>\n",
       "      <td>2nd at Townsend</td>\n",
       "      <td>Harry Bridges Plaza (Ferry Building)</td>\n",
       "      <td>7620</td>\n",
       "    </tr>\n",
       "    <tr>\n",
       "      <th>3</th>\n",
       "      <td>Harry Bridges Plaza (Ferry Building)</td>\n",
       "      <td>2nd at Townsend</td>\n",
       "      <td>6888</td>\n",
       "    </tr>\n",
       "    <tr>\n",
       "      <th>4</th>\n",
       "      <td>Embarcadero at Sansome</td>\n",
       "      <td>Steuart at Market</td>\n",
       "      <td>6874</td>\n",
       "    </tr>\n",
       "  </tbody>\n",
       "</table>\n",
       "</div>"
      ],
      "text/plain": [
       "                        start_station_name  \\\n",
       "0     Harry Bridges Plaza (Ferry Building)   \n",
       "1  San Francisco Caltrain 2 (330 Townsend)   \n",
       "2                          2nd at Townsend   \n",
       "3     Harry Bridges Plaza (Ferry Building)   \n",
       "4                   Embarcadero at Sansome   \n",
       "\n",
       "                       end_station_name  trip_freq  \n",
       "0                Embarcadero at Sansome       9150  \n",
       "1                       Townsend at 7th       8508  \n",
       "2  Harry Bridges Plaza (Ferry Building)       7620  \n",
       "3                       2nd at Townsend       6888  \n",
       "4                     Steuart at Market       6874  "
      ]
     },
     "execution_count": 42,
     "metadata": {},
     "output_type": "execute_result"
    }
   ],
   "source": [
    "%%bigquery\n",
    "\n",
    "SELECT start_station_name, end_station_name, count(*) as trip_freq \n",
    "FROM `bigquery-public-data.san_francisco.bikeshare_trips` \n",
    "GROUP BY start_station_name, end_station_name \n",
    "ORDER BY trip_freq DESC LIMIT 5"
   ]
  },
  {
   "cell_type": "markdown",
   "metadata": {},
   "source": [
    "#### This next magic command saves it into a Pandas data frame"
   ]
  },
  {
   "cell_type": "code",
   "execution_count": 43,
   "metadata": {},
   "outputs": [],
   "source": [
    "%%bigquery my_panda_data_frame\n",
    "\n",
    "SELECT start_station_name, end_station_name, count(*) as trip_freq \n",
    "FROM `bigquery-public-data.san_francisco.bikeshare_trips` \n",
    "GROUP BY start_station_name, end_station_name \n",
    "ORDER BY trip_freq DESC LIMIT 5"
   ]
  },
  {
   "cell_type": "code",
   "execution_count": 44,
   "metadata": {},
   "outputs": [
    {
     "data": {
      "text/html": [
       "<div>\n",
       "<style scoped>\n",
       "    .dataframe tbody tr th:only-of-type {\n",
       "        vertical-align: middle;\n",
       "    }\n",
       "\n",
       "    .dataframe tbody tr th {\n",
       "        vertical-align: top;\n",
       "    }\n",
       "\n",
       "    .dataframe thead th {\n",
       "        text-align: right;\n",
       "    }\n",
       "</style>\n",
       "<table border=\"1\" class=\"dataframe\">\n",
       "  <thead>\n",
       "    <tr style=\"text-align: right;\">\n",
       "      <th></th>\n",
       "      <th>start_station_name</th>\n",
       "      <th>end_station_name</th>\n",
       "      <th>trip_freq</th>\n",
       "    </tr>\n",
       "  </thead>\n",
       "  <tbody>\n",
       "    <tr>\n",
       "      <th>0</th>\n",
       "      <td>Harry Bridges Plaza (Ferry Building)</td>\n",
       "      <td>Embarcadero at Sansome</td>\n",
       "      <td>9150</td>\n",
       "    </tr>\n",
       "    <tr>\n",
       "      <th>1</th>\n",
       "      <td>San Francisco Caltrain 2 (330 Townsend)</td>\n",
       "      <td>Townsend at 7th</td>\n",
       "      <td>8508</td>\n",
       "    </tr>\n",
       "    <tr>\n",
       "      <th>2</th>\n",
       "      <td>2nd at Townsend</td>\n",
       "      <td>Harry Bridges Plaza (Ferry Building)</td>\n",
       "      <td>7620</td>\n",
       "    </tr>\n",
       "    <tr>\n",
       "      <th>3</th>\n",
       "      <td>Harry Bridges Plaza (Ferry Building)</td>\n",
       "      <td>2nd at Townsend</td>\n",
       "      <td>6888</td>\n",
       "    </tr>\n",
       "    <tr>\n",
       "      <th>4</th>\n",
       "      <td>Embarcadero at Sansome</td>\n",
       "      <td>Steuart at Market</td>\n",
       "      <td>6874</td>\n",
       "    </tr>\n",
       "  </tbody>\n",
       "</table>\n",
       "</div>"
      ],
      "text/plain": [
       "                        start_station_name  \\\n",
       "0     Harry Bridges Plaza (Ferry Building)   \n",
       "1  San Francisco Caltrain 2 (330 Townsend)   \n",
       "2                          2nd at Townsend   \n",
       "3     Harry Bridges Plaza (Ferry Building)   \n",
       "4                   Embarcadero at Sansome   \n",
       "\n",
       "                       end_station_name  trip_freq  \n",
       "0                Embarcadero at Sansome       9150  \n",
       "1                       Townsend at 7th       8508  \n",
       "2  Harry Bridges Plaza (Ferry Building)       7620  \n",
       "3                       2nd at Townsend       6888  \n",
       "4                     Steuart at Market       6874  "
      ]
     },
     "execution_count": 44,
     "metadata": {},
     "output_type": "execute_result"
    }
   ],
   "source": [
    "my_panda_data_frame"
   ]
  },
  {
   "cell_type": "code",
   "execution_count": 46,
   "metadata": {},
   "outputs": [
    {
     "data": {
      "text/plain": [
       "<matplotlib.axes._subplots.AxesSubplot at 0x7f922cc0a080>"
      ]
     },
     "execution_count": 46,
     "metadata": {},
     "output_type": "execute_result"
    },
    {
     "data": {
      "image/png": "[encoded data removed]",
      "text/plain": [
       "<Figure size 432x288 with 1 Axes>"
      ]
     },
     "metadata": {
      "needs_background": "light"
     },
     "output_type": "display_data"
    }
   ],
   "source": [
    "my_panda_data_frame.trip_freq.hist()"
   ]
  },
  {
   "cell_type": "code",
   "execution_count": null,
   "metadata": {},
   "outputs": [],
   "source": []
  }
 ],
 "metadata": {
  "environment": {
   "name": "tf2-gpu.2-1.m71",
   "type": "gcloud",
   "uri": "gcr.io/deeplearning-platform-release/tf2-gpu.2-1:m71"
  },
  "kernelspec": {
   "display_name": "Python 3",
   "language": "python",
   "name": "python3"
  },
  "language_info": {
   "codemirror_mode": {
    "name": "ipython",
    "version": 3
   },
   "file_extension": ".py",
   "mimetype": "text/x-python",
   "name": "python",
   "nbconvert_exporter": "python",
   "pygments_lexer": "ipython3",
   "version": "3.7.10"
  }
 },
 "nbformat": 4,
 "nbformat_minor": 4
}
