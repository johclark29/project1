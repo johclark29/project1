{
 "cells": [
  {
   "cell_type": "markdown",
   "metadata": {},
   "source": [
    "### Project 1, John Clark, W205 Section 9"
   ]
  },
  {
   "cell_type": "markdown",
   "metadata": {},
   "source": [
    "In this project, I will peform an analysis to determine how to increase ridership at Lyft Bay Wheels. We begin this effort by making a number of SQL queries and performing some visualizations. "
   ]
  },
  {
   "cell_type": "markdown",
   "metadata": {},
   "source": [
    "### Iniitialize Libraries "
   ]
  },
  {
   "cell_type": "code",
   "execution_count": 20,
   "metadata": {},
   "outputs": [],
   "source": [
    "import pandas as pd\n"
   ]
  },
  {
   "cell_type": "markdown",
   "metadata": {},
   "source": [
    "### SQL Queries"
   ]
  },
  {
   "cell_type": "markdown",
   "metadata": {},
   "source": [
    "We start out with SQL queries asking three questions: \n",
    "* What is the size of this dataset? \n",
    "* What is the earliest start date and time and latest end data and time for a trip? \n",
    "* How many bikes are there: \n",
    "    \n",
    "The following queries will answer thse questions"
   ]
  },
  {
   "cell_type": "code",
   "execution_count": 22,
   "metadata": {},
   "outputs": [
    {
     "name": "stdout",
     "output_type": "stream",
     "text": [
      "Waiting on bqjob_r59f98f92ef6d467b_00000179e7bf2e86_1 ... (0s) Current status: DONE   \n",
      "+--------+\n",
      "|  f0_   |\n",
      "+--------+\n",
      "| 983648 |\n",
      "+--------+\n",
      "Waiting on bqjob_reb13804f737e5f5_00000179e7bf362d_1 ... (0s) Current status: DONE   \n",
      "+---------------------+---------------------+\n",
      "|         f0_         |         f1_         |\n",
      "+---------------------+---------------------+\n",
      "| 2013-08-29 09:08:00 | 2016-08-31 23:48:00 |\n",
      "+---------------------+---------------------+\n",
      "Waiting on bqjob_r4dec8408492823d8_00000179e7bf3c02_1 ... (0s) Current status: DONE   \n",
      "+-----+\n",
      "| f0_ |\n",
      "+-----+\n",
      "| 700 |\n",
      "+-----+\n"
     ]
    }
   ],
   "source": [
    "! bq query --use_legacy_sql=FALSE 'SELECT count(*) FROM `bigquery-public-data.san_francisco.bikeshare_trips`'\n",
    "\n",
    "! bq query --use_legacy_sql=FALSE 'SELECT min(start_date), max(end_date), FROM `bigquery-public-data.san_francisco.bikeshare_trips`'\n",
    "\n",
    "! bq query --use_legacy_sql=false 'select count(distinct(bike_number)) from `bigquery-public-data.san_francisco.bikeshare_trips`'\n"
   ]
  },
  {
   "cell_type": "markdown",
   "metadata": {},
   "source": [
    "As we can see, the trips database has a total of 983,648 records in it. The earlist trip occurred on August 29th in 2013 and the latest trip occurred on August 31st of 2016.  Given total unique bike numbers, there appear to be 700 bikes. Let's consider an additional couple of SQL queries to answer the following question: \n",
    "* How many trips are in the morning vs. the afternoon? \n",
    "\n",
    "Let us assume the morning is defined between 6:00AM and 11:59AM and the afternoon is defined as 12:00pm and 4:59PM."
   ]
  },
  {
   "cell_type": "code",
   "execution_count": 23,
   "metadata": {},
   "outputs": [
    {
     "name": "stdout",
     "output_type": "stream",
     "text": [
      "Waiting on bqjob_r2ff41df03b20782f_00000179e7bf79e9_1 ... (0s) Current status: DONE   \n",
      "+--------+\n",
      "|  f0_   |\n",
      "+--------+\n",
      "| 387728 |\n",
      "+--------+\n",
      "Waiting on bqjob_r34d40c1bc1292087_00000179e7bf7fcd_1 ... (0s) Current status: DONE   \n",
      "+--------+\n",
      "|  f0_   |\n",
      "+--------+\n",
      "| 250705 |\n",
      "+--------+\n"
     ]
    }
   ],
   "source": [
    "! bq query --use_legacy_sql=false 'SELECT count(*)from `bigquery-public-data.san_francisco.bikeshare_trips` where extract(hour from end_date AT TIME ZONE \"UTC\") between 6 AND 11'\n",
    "! bq query --use_legacy_sql=false 'SELECT count(*) from `bigquery-public-data.san_francisco.bikeshare_trips` where extract(hour from end_date AT TIME ZONE \"UTC\") between 12 AND 16'\n"
   ]
  },
  {
   "cell_type": "markdown",
   "metadata": {},
   "source": [
    "Our query tells us that there are 387,728 trips in the morning and 250,705 trips in the afternoon. \n",
    "\n",
    "Let us seek answers to 5 additional questions that tell us more about our dataset: \n",
    "* Is there any revenue leakage due to bicycles being unavailable? \n",
    "* What is the list of stations? \n",
    "* What are the most popular trips? \n",
    "* How many trips occur during peak rush hour times of 7:00PM and 9:59PM and 4:00PM and 6:59PM? \n",
    "* How many trips make use of a subscription vs. non subscription? \n",
    "* What is the distribution of trips throughout the day using a historgram? \n",
    "* Is there any dirty data in this dataset that causes us a concern? "
   ]
  },
  {
   "cell_type": "markdown",
   "metadata": {},
   "source": [
    "First, we look at the availability of bikes compared to the total number of bikes. "
   ]
  },
  {
   "cell_type": "code",
   "execution_count": 24,
   "metadata": {},
   "outputs": [
    {
     "name": "stdout",
     "output_type": "stream",
     "text": [
      "Waiting on bqjob_r29a1102294cea88d_00000179e7bff41e_1 ... (0s) Current status: DONE   \n",
      "+--------+\n",
      "|  f0_   |\n",
      "+--------+\n",
      "| 850830 |\n",
      "+--------+\n",
      "Waiting on bqjob_r3097225181f84444_00000179e7bffc2e_1 ... (0s) Current status: DONE   \n",
      "+-----------+\n",
      "|    f0_    |\n",
      "+-----------+\n",
      "| 107501619 |\n",
      "+-----------+\n"
     ]
    }
   ],
   "source": [
    "! bq query --use_legacy_sql=false 'select count(*) FROM `bigquery-public-data.san_francisco.bikeshare_status` where bikes_available = 0'\n",
    "! bq query --use_legacy_sql=false 'select count(*) FROM `bigquery-public-data.san_francisco.bikeshare_status`'\n"
   ]
  },
  {
   "cell_type": "markdown",
   "metadata": {},
   "source": [
    "We can see that 850,830 times, there have been zero bikes available at a station. However, when this is compared to the total number of status updates of 10,750,619, the number does not appear so large. In fact, there are no bikes avilable .0079% of the time or less than 1 percent. \n",
    "\n",
    "Let's look next at the list of stations so we have an idea geographically as to where they are all at. "
   ]
  },
  {
   "cell_type": "code",
   "execution_count": 25,
   "metadata": {},
   "outputs": [
    {
     "name": "stdout",
     "output_type": "stream",
     "text": [
      "Waiting on bqjob_r5001f16f17247d2c_00000179e7c02ee1_1 ... (0s) Current status: DONE   \n",
      "+------------+-----------------------------------------------+---------------+\n",
      "| station_id |                     name                      |   landmark    |\n",
      "+------------+-----------------------------------------------+---------------+\n",
      "|         32 | Castro Street and El Camino Real              | Mountain View |\n",
      "|         27 | Mountain View City Hall                       | Mountain View |\n",
      "|         33 | Charleston Park/ North Bayshore Area          | Mountain View |\n",
      "|         30 | Middlefield Light Rail Station                | Mountain View |\n",
      "|         31 | San Antonio Shopping Center                   | Mountain View |\n",
      "|         29 | San Antonio Caltrain Station                  | Mountain View |\n",
      "|         28 | Mountain View Caltrain Station                | Mountain View |\n",
      "|         37 | Cowper at University                          | Palo Alto     |\n",
      "|         35 | University and Emerson                        | Palo Alto     |\n",
      "|         38 | Park at Olive                                 | Palo Alto     |\n",
      "|         36 | California Ave Caltrain Station               | Palo Alto     |\n",
      "|         34 | Palo Alto Caltrain Station                    | Palo Alto     |\n",
      "|         25 | Stanford in Redwood City                      | Redwood City  |\n",
      "|         21 | Franklin at Maple                             | Redwood City  |\n",
      "|         24 | Redwood City Public Library                   | Redwood City  |\n",
      "|         26 | Redwood City Medical Center                   | Redwood City  |\n",
      "|         23 | San Mateo County Center                       | Redwood City  |\n",
      "|         83 | Mezes Park                                    | Redwood City  |\n",
      "|         22 | Redwood City Caltrain Station                 | Redwood City  |\n",
      "|         41 | Clay at Battery                               | San Francisco |\n",
      "|         48 | Embarcadero at Vallejo                        | San Francisco |\n",
      "|         46 | Washington at Kearney                         | San Francisco |\n",
      "|         42 | Davis at Jackson                              | San Francisco |\n",
      "|         45 | Commercial at Montgomery                      | San Francisco |\n",
      "|         54 | Embarcadero at Bryant                         | San Francisco |\n",
      "|         60 | Embarcadero at Sansome                        | San Francisco |\n",
      "|         57 | 5th at Howard                                 | San Francisco |\n",
      "|         65 | Townsend at 7th                               | San Francisco |\n",
      "|         64 | 2nd at South Park                             | San Francisco |\n",
      "|         82 | Broadway St at Battery St                     | San Francisco |\n",
      "|         73 | Grant Avenue at Columbus Avenue               | San Francisco |\n",
      "|         47 | Post at Kearney                               | San Francisco |\n",
      "|         56 | Beale at Market                               | San Francisco |\n",
      "|         51 | Embarcadero at Folsom                         | San Francisco |\n",
      "|         49 | Spear at Folsom                               | San Francisco |\n",
      "|         58 | San Francisco City Hall                       | San Francisco |\n",
      "|         62 | 2nd at Folsom                                 | San Francisco |\n",
      "|         63 | Howard at 2nd                                 | San Francisco |\n",
      "|         68 | Yerba Buena Center of the Arts (3rd @ Howard) | San Francisco |\n",
      "|         66 | South Van Ness at Market                      | San Francisco |\n",
      "|         70 | San Francisco Caltrain (Townsend at 4th)      | San Francisco |\n",
      "|         71 | Powell at Post (Union Square)                 | San Francisco |\n",
      "|         75 | Mechanics Plaza (Market at Battery)           | San Francisco |\n",
      "|         76 | Market at 4th                                 | San Francisco |\n",
      "|         39 | Powell Street BART                            | San Francisco |\n",
      "|         50 | Harry Bridges Plaza (Ferry Building)          | San Francisco |\n",
      "|         55 | Temporary Transbay Terminal (Howard at Beale) | San Francisco |\n",
      "|         59 | Golden Gate at Polk                           | San Francisco |\n",
      "|         72 | Civic Center BART (7th at Market)             | San Francisco |\n",
      "|         69 | San Francisco Caltrain 2 (330 Townsend)       | San Francisco |\n",
      "|         74 | Steuart at Market                             | San Francisco |\n",
      "|         61 | 2nd at Townsend                               | San Francisco |\n",
      "|         67 | Market at 10th                                | San Francisco |\n",
      "|         77 | Market at Sansome                             | San Francisco |\n",
      "|         90 | 5th St at Folsom St                           | San Francisco |\n",
      "|         91 | Cyril Magnin St at Ellis St                   | San Francisco |\n",
      "|          4 | Santa Clara at Almaden                        | San Jose      |\n",
      "|         84 | Ryland Park                                   | San Jose      |\n",
      "|          8 | San Salvador at 1st                           | San Jose      |\n",
      "|          9 | Japantown                                     | San Jose      |\n",
      "|          3 | San Jose Civic Center                         | San Jose      |\n",
      "|         13 | St James Park                                 | San Jose      |\n",
      "|         10 | San Jose City Hall                            | San Jose      |\n",
      "|         16 | SJSU - San Salvador at 9th                    | San Jose      |\n",
      "|          7 | Paseo de San Antonio                          | San Jose      |\n",
      "|          6 | San Pedro Square                              | San Jose      |\n",
      "|         80 | Santa Clara County Civic Center               | San Jose      |\n",
      "|         14 | Arena Green / SAP Center                      | San Jose      |\n",
      "|          5 | Adobe on Almaden                              | San Jose      |\n",
      "|         11 | MLK Library                                   | San Jose      |\n",
      "|         12 | SJSU 4th at San Carlos                        | San Jose      |\n",
      "|         89 | S. Market st at Park Ave                      | San Jose      |\n",
      "|         88 | 5th S. at E. San Salvador St                  | San Jose      |\n",
      "|          2 | San Jose Diridon Caltrain Station             | San Jose      |\n",
      "+------------+-----------------------------------------------+---------------+\n"
     ]
    }
   ],
   "source": [
    "! bq query --use_legacy_sql=FALSE 'SELECT distinct station_id, name, landmark FROM `bigquery-public-data.san_francisco.bikeshare_stations` ORDER BY landmark'"
   ]
  },
  {
   "cell_type": "markdown",
   "metadata": {},
   "source": [
    "A majority of the stations are in San Francisco and San Jose but we also see stations in Mountain View, Redwood City and Palo Alto. Noteably, there are no stations in the East Bay. \n",
    "\n",
    "Let's now consider the most popular trips. "
   ]
  },
  {
   "cell_type": "code",
   "execution_count": null,
   "metadata": {},
   "outputs": [],
   "source": [
    "! bq query --use_legacy_sql=FALSE 'SELECT end_station_name, start_station_name, landmark, count(*) as trip_freq FROM `bigquery-public-data.san_francisco.bikeshare_trips` a INNER JOIN `bigquery-public-data.san_francisco.bikeshare_stations` b ON a.end_station_id BETWEEN b.station_id AND b.station_id GROUP BY landmark, end_station_name, start_station_name ORDER BY trip_freq DESC'\n"
   ]
  },
  {
   "cell_type": "markdown",
   "metadata": {},
   "source": [
    "We can see that 96 of the 100 most popular trips terminate in San Francisco. Two terminate in Mountain View and two terminate in San Jose. \n",
    "\n",
    "Now let us look at how many trips occur at peak rush hour times of 7:00PM and 9:59PM and 4:00PM and 6:59PM. "
   ]
  },
  {
   "cell_type": "code",
   "execution_count": 27,
   "metadata": {},
   "outputs": [
    {
     "name": "stdout",
     "output_type": "stream",
     "text": [
      "Waiting on bqjob_r25499a4710140176_00000179e7c11ec3_1 ... (0s) Current status: DONE   \n",
      "+--------+\n",
      "|  f0_   |\n",
      "+--------+\n",
      "| 288598 |\n",
      "+--------+\n",
      "Waiting on bqjob_r744f080c45a31efd_00000179e7c124b5_1 ... (0s) Current status: DONE   \n",
      "+--------+\n",
      "|  f0_   |\n",
      "+--------+\n",
      "| 299626 |\n",
      "+--------+\n"
     ]
    }
   ],
   "source": [
    "! bq query --use_legacy_sql=false 'SELECT count(*) from `bigquery-public-data.san_francisco.bikeshare_trips` where extract(hour from end_date AT TIME ZONE \"UTC\") between 7 AND 9'\n",
    "! bq query --use_legacy_sql=false 'SELECT count(*) from `bigquery-public-data.san_francisco.bikeshare_trips` where extract(hour from start_date AT TIME ZONE \"UTC\") between 16 AND 18'      \n"
   ]
  },
  {
   "cell_type": "markdown",
   "metadata": {},
   "source": [
    "There are 288,598 trips at the peak of morning rush hour and 299,626 during the peak of afternoon/early evening rush hour. These two numbers total to 60% of all the trips at Lyft Bay Wheels, therefore, targeting commuters appears to a good strategy of increasing sales volumes. \n",
    "\n",
    "Let us now look at the breakdown of subscribers based on their subscription type. "
   ]
  },
  {
   "cell_type": "code",
   "execution_count": 30,
   "metadata": {},
   "outputs": [
    {
     "name": "stdout",
     "output_type": "stream",
     "text": [
      "Waiting on bqjob_r58e68c1cb16df251_00000179e7c4ef2d_1 ... (0s) Current status: DONE   \n",
      "+-----------------+--------+\n",
      "| subscriber_type |  f0_   |\n",
      "+-----------------+--------+\n",
      "| Customer        | 136809 |\n",
      "| Subscriber      | 846839 |\n",
      "+-----------------+--------+\n"
     ]
    }
   ],
   "source": [
    "! bq query --use_legacy_sql=false 'SELECT subscriber_type, count(subscriber_type) from `bigquery-public-data.san_francisco.bikeshare_trips` GROUP by subscriber_type'"
   ]
  },
  {
   "cell_type": "markdown",
   "metadata": {},
   "source": [
    "Based on this query, we can determine that 846,839 of the rides are by subscribers and only 136,809 are one time customers or those with a three day pass. Unfortunately this information is not very granular to inform us as to which types of promotions have been in place in the past, not how effective those particular promotions have been. "
   ]
  },
  {
   "cell_type": "markdown",
   "metadata": {},
   "source": [
    "We will follow this by creating a CSV file of the bicycle trips, which includes joined data from the stations file so it can be reported on. \n"
   ]
  },
  {
   "cell_type": "code",
   "execution_count": 33,
   "metadata": {},
   "outputs": [
    {
     "name": "stdout",
     "output_type": "stream",
     "text": [
      "Waiting on bqjob_r5df9417bdbecdcff_00000179e7cb6782_1 ... (0s) Current status: DONE   \n"
     ]
    }
   ],
   "source": [
    "! bq query --max_rows=1000000 --use_legacy_sql=FALSE --format=csv 'SELECT * FROM `bigquery-public-data.san_francisco.bikeshare_trips` a INNER JOIN `bigquery-public-data.san_francisco.bikeshare_stations` b ON a.end_station_id BETWEEN b.station_id AND b.station_id' > result.csv"
   ]
  },
  {
   "cell_type": "markdown",
   "metadata": {},
   "source": [
    "### Read the data from the file into Pandas and create a simple data visualization"
   ]
  },
  {
   "cell_type": "code",
   "execution_count": 34,
   "metadata": {},
   "outputs": [],
   "source": [
    "pop_trips = pd.read_csv('result.csv')"
   ]
  },
  {
   "cell_type": "code",
   "execution_count": 35,
   "metadata": {},
   "outputs": [
    {
     "data": {
      "text/html": [
       "<div>\n",
       "<style scoped>\n",
       "    .dataframe tbody tr th:only-of-type {\n",
       "        vertical-align: middle;\n",
       "    }\n",
       "\n",
       "    .dataframe tbody tr th {\n",
       "        vertical-align: top;\n",
       "    }\n",
       "\n",
       "    .dataframe thead th {\n",
       "        text-align: right;\n",
       "    }\n",
       "</style>\n",
       "<table border=\"1\" class=\"dataframe\">\n",
       "  <thead>\n",
       "    <tr style=\"text-align: right;\">\n",
       "      <th></th>\n",
       "      <th>trip_id</th>\n",
       "      <th>duration_sec</th>\n",
       "      <th>start_date</th>\n",
       "      <th>start_station_name</th>\n",
       "      <th>start_station_id</th>\n",
       "      <th>end_date</th>\n",
       "      <th>end_station_name</th>\n",
       "      <th>end_station_id</th>\n",
       "      <th>bike_number</th>\n",
       "      <th>zip_code</th>\n",
       "      <th>subscriber_type</th>\n",
       "      <th>station_id</th>\n",
       "      <th>name</th>\n",
       "      <th>latitude</th>\n",
       "      <th>longitude</th>\n",
       "      <th>dockcount</th>\n",
       "      <th>landmark</th>\n",
       "      <th>installation_date</th>\n",
       "    </tr>\n",
       "  </thead>\n",
       "  <tbody>\n",
       "    <tr>\n",
       "      <th>0</th>\n",
       "      <td>512184</td>\n",
       "      <td>505</td>\n",
       "      <td>2014-10-23 14:40:00</td>\n",
       "      <td>2nd at Folsom</td>\n",
       "      <td>62</td>\n",
       "      <td>2014-10-23 14:49:00</td>\n",
       "      <td>Market at 4th</td>\n",
       "      <td>76</td>\n",
       "      <td>470</td>\n",
       "      <td>94107</td>\n",
       "      <td>Subscriber</td>\n",
       "      <td>76</td>\n",
       "      <td>Market at 4th</td>\n",
       "      <td>37.786305</td>\n",
       "      <td>-122.404966</td>\n",
       "      <td>19</td>\n",
       "      <td>San Francisco</td>\n",
       "      <td>2013-08-25</td>\n",
       "    </tr>\n",
       "    <tr>\n",
       "      <th>1</th>\n",
       "      <td>64280</td>\n",
       "      <td>509</td>\n",
       "      <td>2013-10-18 19:17:00</td>\n",
       "      <td>2nd at Folsom</td>\n",
       "      <td>62</td>\n",
       "      <td>2013-10-18 19:25:00</td>\n",
       "      <td>Market at 4th</td>\n",
       "      <td>76</td>\n",
       "      <td>266</td>\n",
       "      <td>94117</td>\n",
       "      <td>Subscriber</td>\n",
       "      <td>76</td>\n",
       "      <td>Market at 4th</td>\n",
       "      <td>37.786305</td>\n",
       "      <td>-122.404966</td>\n",
       "      <td>19</td>\n",
       "      <td>San Francisco</td>\n",
       "      <td>2013-08-25</td>\n",
       "    </tr>\n",
       "    <tr>\n",
       "      <th>2</th>\n",
       "      <td>1179810</td>\n",
       "      <td>265</td>\n",
       "      <td>2016-04-27 21:33:00</td>\n",
       "      <td>2nd at Folsom</td>\n",
       "      <td>62</td>\n",
       "      <td>2016-04-27 21:38:00</td>\n",
       "      <td>Market at 4th</td>\n",
       "      <td>76</td>\n",
       "      <td>456</td>\n",
       "      <td>94105</td>\n",
       "      <td>Subscriber</td>\n",
       "      <td>76</td>\n",
       "      <td>Market at 4th</td>\n",
       "      <td>37.786305</td>\n",
       "      <td>-122.404966</td>\n",
       "      <td>19</td>\n",
       "      <td>San Francisco</td>\n",
       "      <td>2013-08-25</td>\n",
       "    </tr>\n",
       "    <tr>\n",
       "      <th>3</th>\n",
       "      <td>352117</td>\n",
       "      <td>396</td>\n",
       "      <td>2014-07-06 15:51:00</td>\n",
       "      <td>2nd at Folsom</td>\n",
       "      <td>62</td>\n",
       "      <td>2014-07-06 15:58:00</td>\n",
       "      <td>Market at 4th</td>\n",
       "      <td>76</td>\n",
       "      <td>322</td>\n",
       "      <td>94107</td>\n",
       "      <td>Subscriber</td>\n",
       "      <td>76</td>\n",
       "      <td>Market at 4th</td>\n",
       "      <td>37.786305</td>\n",
       "      <td>-122.404966</td>\n",
       "      <td>19</td>\n",
       "      <td>San Francisco</td>\n",
       "      <td>2013-08-25</td>\n",
       "    </tr>\n",
       "    <tr>\n",
       "      <th>4</th>\n",
       "      <td>726689</td>\n",
       "      <td>576</td>\n",
       "      <td>2015-04-15 14:07:00</td>\n",
       "      <td>2nd at Folsom</td>\n",
       "      <td>62</td>\n",
       "      <td>2015-04-15 14:17:00</td>\n",
       "      <td>Market at 4th</td>\n",
       "      <td>76</td>\n",
       "      <td>483</td>\n",
       "      <td>94901</td>\n",
       "      <td>Subscriber</td>\n",
       "      <td>76</td>\n",
       "      <td>Market at 4th</td>\n",
       "      <td>37.786305</td>\n",
       "      <td>-122.404966</td>\n",
       "      <td>19</td>\n",
       "      <td>San Francisco</td>\n",
       "      <td>2013-08-25</td>\n",
       "    </tr>\n",
       "    <tr>\n",
       "      <th>...</th>\n",
       "      <td>...</td>\n",
       "      <td>...</td>\n",
       "      <td>...</td>\n",
       "      <td>...</td>\n",
       "      <td>...</td>\n",
       "      <td>...</td>\n",
       "      <td>...</td>\n",
       "      <td>...</td>\n",
       "      <td>...</td>\n",
       "      <td>...</td>\n",
       "      <td>...</td>\n",
       "      <td>...</td>\n",
       "      <td>...</td>\n",
       "      <td>...</td>\n",
       "      <td>...</td>\n",
       "      <td>...</td>\n",
       "      <td>...</td>\n",
       "      <td>...</td>\n",
       "    </tr>\n",
       "    <tr>\n",
       "      <th>983643</th>\n",
       "      <td>383411</td>\n",
       "      <td>317</td>\n",
       "      <td>2014-07-28 17:04:00</td>\n",
       "      <td>Yerba Buena Center of the Arts (3rd @ Howard)</td>\n",
       "      <td>68</td>\n",
       "      <td>2014-07-28 17:10:00</td>\n",
       "      <td>San Francisco Caltrain 2 (330 Townsend)</td>\n",
       "      <td>69</td>\n",
       "      <td>276</td>\n",
       "      <td>94087</td>\n",
       "      <td>Subscriber</td>\n",
       "      <td>69</td>\n",
       "      <td>San Francisco Caltrain 2 (330 Townsend)</td>\n",
       "      <td>37.776600</td>\n",
       "      <td>-122.395470</td>\n",
       "      <td>23</td>\n",
       "      <td>San Francisco</td>\n",
       "      <td>2013-08-23</td>\n",
       "    </tr>\n",
       "    <tr>\n",
       "      <th>983644</th>\n",
       "      <td>496204</td>\n",
       "      <td>590</td>\n",
       "      <td>2014-10-13 16:47:00</td>\n",
       "      <td>Yerba Buena Center of the Arts (3rd @ Howard)</td>\n",
       "      <td>68</td>\n",
       "      <td>2014-10-13 16:57:00</td>\n",
       "      <td>San Francisco Caltrain 2 (330 Townsend)</td>\n",
       "      <td>69</td>\n",
       "      <td>366</td>\n",
       "      <td>94104</td>\n",
       "      <td>Subscriber</td>\n",
       "      <td>69</td>\n",
       "      <td>San Francisco Caltrain 2 (330 Townsend)</td>\n",
       "      <td>37.776600</td>\n",
       "      <td>-122.395470</td>\n",
       "      <td>23</td>\n",
       "      <td>San Francisco</td>\n",
       "      <td>2013-08-23</td>\n",
       "    </tr>\n",
       "    <tr>\n",
       "      <th>983645</th>\n",
       "      <td>1117325</td>\n",
       "      <td>301</td>\n",
       "      <td>2016-03-07 17:11:00</td>\n",
       "      <td>Yerba Buena Center of the Arts (3rd @ Howard)</td>\n",
       "      <td>68</td>\n",
       "      <td>2016-03-07 17:16:00</td>\n",
       "      <td>San Francisco Caltrain 2 (330 Townsend)</td>\n",
       "      <td>69</td>\n",
       "      <td>318</td>\n",
       "      <td>94062</td>\n",
       "      <td>Subscriber</td>\n",
       "      <td>69</td>\n",
       "      <td>San Francisco Caltrain 2 (330 Townsend)</td>\n",
       "      <td>37.776600</td>\n",
       "      <td>-122.395470</td>\n",
       "      <td>23</td>\n",
       "      <td>San Francisco</td>\n",
       "      <td>2013-08-23</td>\n",
       "    </tr>\n",
       "    <tr>\n",
       "      <th>983646</th>\n",
       "      <td>376938</td>\n",
       "      <td>650</td>\n",
       "      <td>2014-07-23 17:22:00</td>\n",
       "      <td>Yerba Buena Center of the Arts (3rd @ Howard)</td>\n",
       "      <td>68</td>\n",
       "      <td>2014-07-23 17:33:00</td>\n",
       "      <td>San Francisco Caltrain 2 (330 Townsend)</td>\n",
       "      <td>69</td>\n",
       "      <td>275</td>\n",
       "      <td>94107</td>\n",
       "      <td>Subscriber</td>\n",
       "      <td>69</td>\n",
       "      <td>San Francisco Caltrain 2 (330 Townsend)</td>\n",
       "      <td>37.776600</td>\n",
       "      <td>-122.395470</td>\n",
       "      <td>23</td>\n",
       "      <td>San Francisco</td>\n",
       "      <td>2013-08-23</td>\n",
       "    </tr>\n",
       "    <tr>\n",
       "      <th>983647</th>\n",
       "      <td>893000</td>\n",
       "      <td>284</td>\n",
       "      <td>2015-08-17 12:58:00</td>\n",
       "      <td>Yerba Buena Center of the Arts (3rd @ Howard)</td>\n",
       "      <td>68</td>\n",
       "      <td>2015-08-17 13:03:00</td>\n",
       "      <td>San Francisco Caltrain 2 (330 Townsend)</td>\n",
       "      <td>69</td>\n",
       "      <td>413</td>\n",
       "      <td>94401</td>\n",
       "      <td>Subscriber</td>\n",
       "      <td>69</td>\n",
       "      <td>San Francisco Caltrain 2 (330 Townsend)</td>\n",
       "      <td>37.776600</td>\n",
       "      <td>-122.395470</td>\n",
       "      <td>23</td>\n",
       "      <td>San Francisco</td>\n",
       "      <td>2013-08-23</td>\n",
       "    </tr>\n",
       "  </tbody>\n",
       "</table>\n",
       "<p>983648 rows × 18 columns</p>\n",
       "</div>"
      ],
      "text/plain": [
       "        trip_id  duration_sec           start_date  \\\n",
       "0        512184           505  2014-10-23 14:40:00   \n",
       "1         64280           509  2013-10-18 19:17:00   \n",
       "2       1179810           265  2016-04-27 21:33:00   \n",
       "3        352117           396  2014-07-06 15:51:00   \n",
       "4        726689           576  2015-04-15 14:07:00   \n",
       "...         ...           ...                  ...   \n",
       "983643   383411           317  2014-07-28 17:04:00   \n",
       "983644   496204           590  2014-10-13 16:47:00   \n",
       "983645  1117325           301  2016-03-07 17:11:00   \n",
       "983646   376938           650  2014-07-23 17:22:00   \n",
       "983647   893000           284  2015-08-17 12:58:00   \n",
       "\n",
       "                                   start_station_name  start_station_id  \\\n",
       "0                                       2nd at Folsom                62   \n",
       "1                                       2nd at Folsom                62   \n",
       "2                                       2nd at Folsom                62   \n",
       "3                                       2nd at Folsom                62   \n",
       "4                                       2nd at Folsom                62   \n",
       "...                                               ...               ...   \n",
       "983643  Yerba Buena Center of the Arts (3rd @ Howard)                68   \n",
       "983644  Yerba Buena Center of the Arts (3rd @ Howard)                68   \n",
       "983645  Yerba Buena Center of the Arts (3rd @ Howard)                68   \n",
       "983646  Yerba Buena Center of the Arts (3rd @ Howard)                68   \n",
       "983647  Yerba Buena Center of the Arts (3rd @ Howard)                68   \n",
       "\n",
       "                   end_date                         end_station_name  \\\n",
       "0       2014-10-23 14:49:00                            Market at 4th   \n",
       "1       2013-10-18 19:25:00                            Market at 4th   \n",
       "2       2016-04-27 21:38:00                            Market at 4th   \n",
       "3       2014-07-06 15:58:00                            Market at 4th   \n",
       "4       2015-04-15 14:17:00                            Market at 4th   \n",
       "...                     ...                                      ...   \n",
       "983643  2014-07-28 17:10:00  San Francisco Caltrain 2 (330 Townsend)   \n",
       "983644  2014-10-13 16:57:00  San Francisco Caltrain 2 (330 Townsend)   \n",
       "983645  2016-03-07 17:16:00  San Francisco Caltrain 2 (330 Townsend)   \n",
       "983646  2014-07-23 17:33:00  San Francisco Caltrain 2 (330 Townsend)   \n",
       "983647  2015-08-17 13:03:00  San Francisco Caltrain 2 (330 Townsend)   \n",
       "\n",
       "        end_station_id  bike_number zip_code subscriber_type  station_id  \\\n",
       "0                   76          470    94107      Subscriber          76   \n",
       "1                   76          266    94117      Subscriber          76   \n",
       "2                   76          456    94105      Subscriber          76   \n",
       "3                   76          322    94107      Subscriber          76   \n",
       "4                   76          483    94901      Subscriber          76   \n",
       "...                ...          ...      ...             ...         ...   \n",
       "983643              69          276    94087      Subscriber          69   \n",
       "983644              69          366    94104      Subscriber          69   \n",
       "983645              69          318    94062      Subscriber          69   \n",
       "983646              69          275    94107      Subscriber          69   \n",
       "983647              69          413    94401      Subscriber          69   \n",
       "\n",
       "                                           name   latitude   longitude  \\\n",
       "0                                 Market at 4th  37.786305 -122.404966   \n",
       "1                                 Market at 4th  37.786305 -122.404966   \n",
       "2                                 Market at 4th  37.786305 -122.404966   \n",
       "3                                 Market at 4th  37.786305 -122.404966   \n",
       "4                                 Market at 4th  37.786305 -122.404966   \n",
       "...                                         ...        ...         ...   \n",
       "983643  San Francisco Caltrain 2 (330 Townsend)  37.776600 -122.395470   \n",
       "983644  San Francisco Caltrain 2 (330 Townsend)  37.776600 -122.395470   \n",
       "983645  San Francisco Caltrain 2 (330 Townsend)  37.776600 -122.395470   \n",
       "983646  San Francisco Caltrain 2 (330 Townsend)  37.776600 -122.395470   \n",
       "983647  San Francisco Caltrain 2 (330 Townsend)  37.776600 -122.395470   \n",
       "\n",
       "        dockcount       landmark installation_date  \n",
       "0              19  San Francisco        2013-08-25  \n",
       "1              19  San Francisco        2013-08-25  \n",
       "2              19  San Francisco        2013-08-25  \n",
       "3              19  San Francisco        2013-08-25  \n",
       "4              19  San Francisco        2013-08-25  \n",
       "...           ...            ...               ...  \n",
       "983643         23  San Francisco        2013-08-23  \n",
       "983644         23  San Francisco        2013-08-23  \n",
       "983645         23  San Francisco        2013-08-23  \n",
       "983646         23  San Francisco        2013-08-23  \n",
       "983647         23  San Francisco        2013-08-23  \n",
       "\n",
       "[983648 rows x 18 columns]"
      ]
     },
     "execution_count": 35,
     "metadata": {},
     "output_type": "execute_result"
    }
   ],
   "source": [
    "pop_trips"
   ]
  },
  {
   "cell_type": "code",
   "execution_count": null,
   "metadata": {},
   "outputs": [
    {
     "data": {
      "text/plain": [
       "<AxesSubplot:>"
      ]
     },
     "execution_count": 36,
     "metadata": {},
     "output_type": "execute_result"
    }
   ],
   "source": [
    "pop_trips.end_date.hist()"
   ]
  },
  {
   "cell_type": "markdown",
   "metadata": {},
   "source": [
    "### We can also use the magic commands to run  BigQuery SQL\n"
   ]
  },
  {
   "cell_type": "markdown",
   "metadata": {},
   "source": [
    "#### This runs the query above and prints to the notebook output"
   ]
  },
  {
   "cell_type": "code",
   "execution_count": 42,
   "metadata": {},
   "outputs": [
    {
     "data": {
      "text/html": [
       "<div>\n",
       "<style scoped>\n",
       "    .dataframe tbody tr th:only-of-type {\n",
       "        vertical-align: middle;\n",
       "    }\n",
       "\n",
       "    .dataframe tbody tr th {\n",
       "        vertical-align: top;\n",
       "    }\n",
       "\n",
       "    .dataframe thead th {\n",
       "        text-align: right;\n",
       "    }\n",
       "</style>\n",
       "<table border=\"1\" class=\"dataframe\">\n",
       "  <thead>\n",
       "    <tr style=\"text-align: right;\">\n",
       "      <th></th>\n",
       "      <th>start_station_name</th>\n",
       "      <th>end_station_name</th>\n",
       "      <th>trip_freq</th>\n",
       "    </tr>\n",
       "  </thead>\n",
       "  <tbody>\n",
       "    <tr>\n",
       "      <th>0</th>\n",
       "      <td>Harry Bridges Plaza (Ferry Building)</td>\n",
       "      <td>Embarcadero at Sansome</td>\n",
       "      <td>9150</td>\n",
       "    </tr>\n",
       "    <tr>\n",
       "      <th>1</th>\n",
       "      <td>San Francisco Caltrain 2 (330 Townsend)</td>\n",
       "      <td>Townsend at 7th</td>\n",
       "      <td>8508</td>\n",
       "    </tr>\n",
       "    <tr>\n",
       "      <th>2</th>\n",
       "      <td>2nd at Townsend</td>\n",
       "      <td>Harry Bridges Plaza (Ferry Building)</td>\n",
       "      <td>7620</td>\n",
       "    </tr>\n",
       "    <tr>\n",
       "      <th>3</th>\n",
       "      <td>Harry Bridges Plaza (Ferry Building)</td>\n",
       "      <td>2nd at Townsend</td>\n",
       "      <td>6888</td>\n",
       "    </tr>\n",
       "    <tr>\n",
       "      <th>4</th>\n",
       "      <td>Embarcadero at Sansome</td>\n",
       "      <td>Steuart at Market</td>\n",
       "      <td>6874</td>\n",
       "    </tr>\n",
       "  </tbody>\n",
       "</table>\n",
       "</div>"
      ],
      "text/plain": [
       "                        start_station_name  \\\n",
       "0     Harry Bridges Plaza (Ferry Building)   \n",
       "1  San Francisco Caltrain 2 (330 Townsend)   \n",
       "2                          2nd at Townsend   \n",
       "3     Harry Bridges Plaza (Ferry Building)   \n",
       "4                   Embarcadero at Sansome   \n",
       "\n",
       "                       end_station_name  trip_freq  \n",
       "0                Embarcadero at Sansome       9150  \n",
       "1                       Townsend at 7th       8508  \n",
       "2  Harry Bridges Plaza (Ferry Building)       7620  \n",
       "3                       2nd at Townsend       6888  \n",
       "4                     Steuart at Market       6874  "
      ]
     },
     "execution_count": 42,
     "metadata": {},
     "output_type": "execute_result"
    }
   ],
   "source": [
    "%%bigquery\n",
    "\n",
    "SELECT start_station_name, end_station_name, count(*) as trip_freq \n",
    "FROM `bigquery-public-data.san_francisco.bikeshare_trips` \n",
    "GROUP BY start_station_name, end_station_name \n",
    "ORDER BY trip_freq DESC LIMIT 5"
   ]
  },
  {
   "cell_type": "markdown",
   "metadata": {},
   "source": [
    "#### This next magic command saves it into a Pandas data frame"
   ]
  },
  {
   "cell_type": "code",
   "execution_count": 43,
   "metadata": {},
   "outputs": [],
   "source": [
    "%%bigquery my_panda_data_frame\n",
    "\n",
    "SELECT start_station_name, end_station_name, count(*) as trip_freq \n",
    "FROM `bigquery-public-data.san_francisco.bikeshare_trips` \n",
    "GROUP BY start_station_name, end_station_name \n",
    "ORDER BY trip_freq DESC LIMIT 5"
   ]
  },
  {
   "cell_type": "code",
   "execution_count": 44,
   "metadata": {},
   "outputs": [
    {
     "data": {
      "text/html": [
       "<div>\n",
       "<style scoped>\n",
       "    .dataframe tbody tr th:only-of-type {\n",
       "        vertical-align: middle;\n",
       "    }\n",
       "\n",
       "    .dataframe tbody tr th {\n",
       "        vertical-align: top;\n",
       "    }\n",
       "\n",
       "    .dataframe thead th {\n",
       "        text-align: right;\n",
       "    }\n",
       "</style>\n",
       "<table border=\"1\" class=\"dataframe\">\n",
       "  <thead>\n",
       "    <tr style=\"text-align: right;\">\n",
       "      <th></th>\n",
       "      <th>start_station_name</th>\n",
       "      <th>end_station_name</th>\n",
       "      <th>trip_freq</th>\n",
       "    </tr>\n",
       "  </thead>\n",
       "  <tbody>\n",
       "    <tr>\n",
       "      <th>0</th>\n",
       "      <td>Harry Bridges Plaza (Ferry Building)</td>\n",
       "      <td>Embarcadero at Sansome</td>\n",
       "      <td>9150</td>\n",
       "    </tr>\n",
       "    <tr>\n",
       "      <th>1</th>\n",
       "      <td>San Francisco Caltrain 2 (330 Townsend)</td>\n",
       "      <td>Townsend at 7th</td>\n",
       "      <td>8508</td>\n",
       "    </tr>\n",
       "    <tr>\n",
       "      <th>2</th>\n",
       "      <td>2nd at Townsend</td>\n",
       "      <td>Harry Bridges Plaza (Ferry Building)</td>\n",
       "      <td>7620</td>\n",
       "    </tr>\n",
       "    <tr>\n",
       "      <th>3</th>\n",
       "      <td>Harry Bridges Plaza (Ferry Building)</td>\n",
       "      <td>2nd at Townsend</td>\n",
       "      <td>6888</td>\n",
       "    </tr>\n",
       "    <tr>\n",
       "      <th>4</th>\n",
       "      <td>Embarcadero at Sansome</td>\n",
       "      <td>Steuart at Market</td>\n",
       "      <td>6874</td>\n",
       "    </tr>\n",
       "  </tbody>\n",
       "</table>\n",
       "</div>"
      ],
      "text/plain": [
       "                        start_station_name  \\\n",
       "0     Harry Bridges Plaza (Ferry Building)   \n",
       "1  San Francisco Caltrain 2 (330 Townsend)   \n",
       "2                          2nd at Townsend   \n",
       "3     Harry Bridges Plaza (Ferry Building)   \n",
       "4                   Embarcadero at Sansome   \n",
       "\n",
       "                       end_station_name  trip_freq  \n",
       "0                Embarcadero at Sansome       9150  \n",
       "1                       Townsend at 7th       8508  \n",
       "2  Harry Bridges Plaza (Ferry Building)       7620  \n",
       "3                       2nd at Townsend       6888  \n",
       "4                     Steuart at Market       6874  "
      ]
     },
     "execution_count": 44,
     "metadata": {},
     "output_type": "execute_result"
    }
   ],
   "source": [
    "my_panda_data_frame"
   ]
  },
  {
   "cell_type": "code",
   "execution_count": 46,
   "metadata": {},
   "outputs": [
    {
     "data": {
      "text/plain": [
       "<matplotlib.axes._subplots.AxesSubplot at 0x7f922cc0a080>"
      ]
     },
     "execution_count": 46,
     "metadata": {},
     "output_type": "execute_result"
    },
    {
     "data": {
      "image/png": "[encoded data removed]",
      "text/plain": [
       "<Figure size 432x288 with 1 Axes>"
      ]
     },
     "metadata": {
      "needs_background": "light"
     },
     "output_type": "display_data"
    }
   ],
   "source": [
    "my_panda_data_frame.trip_freq.hist()"
   ]
  },
  {
   "cell_type": "code",
   "execution_count": null,
   "metadata": {},
   "outputs": [],
   "source": []
  }
 ],
 "metadata": {
  "environment": {
   "name": "tf2-gpu.2-1.m71",
   "type": "gcloud",
   "uri": "gcr.io/deeplearning-platform-release/tf2-gpu.2-1:m71"
  },
  "kernelspec": {
   "display_name": "Python 3",
   "language": "python",
   "name": "python3"
  },
  "language_info": {
   "codemirror_mode": {
    "name": "ipython",
    "version": 3
   },
   "file_extension": ".py",
   "mimetype": "text/x-python",
   "name": "python",
   "nbconvert_exporter": "python",
   "pygments_lexer": "ipython3",
   "version": "3.7.10"
  }
 },
 "nbformat": 4,
 "nbformat_minor": 4
}
